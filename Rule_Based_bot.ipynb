{
  "nbformat": 4,
  "nbformat_minor": 0,
  "metadata": {
    "colab": {
      "provenance": [],
      "authorship_tag": "ABX9TyOh5oO8JIu5L9JbtvHVKu8D",
      "include_colab_link": true
    },
    "kernelspec": {
      "name": "python3",
      "display_name": "Python 3"
    },
    "language_info": {
      "name": "python"
    }
  },
  "cells": [
    {
      "cell_type": "markdown",
      "metadata": {
        "id": "view-in-github",
        "colab_type": "text"
      },
      "source": [
        "<a href=\"https://colab.research.google.com/github/Rudr16a/Rule-Bot/blob/main/Rule_Based_bot.ipynb\" target=\"_parent\"><img src=\"https://colab.research.google.com/assets/colab-badge.svg\" alt=\"Open In Colab\"/></a>"
      ]
    },
    {
      "cell_type": "code",
      "execution_count": 10,
      "metadata": {
        "id": "d3UqT9hiljCT"
      },
      "outputs": [],
      "source": [
        "import re\n",
        "import random"
      ]
    },
    {
      "cell_type": "code",
      "source": [
        "class RuleBot:\n",
        "  #potential negative response\n",
        "  negative_responses= (\"no\",\"nope\",\"nah\",\"not a chance\", \"sorry\")\n",
        "  #Exit conversation Keywords\n",
        "  exit_commands= (\"quit\",\"pause\",\"bye\",\"exit\",\"goodbye\", \"later\")\n",
        "  #Random Starter Question\n",
        "  random_question= (\n",
        "      \"Why are you here ?\",\n",
        "      \"Are there many humans like you?\",\n",
        "      \"What do you consume for sustennace\",\n",
        "      \"Is there any intelligent life on planet\",\n",
        "      \"Does earth have a leader\",\n",
        "      \"What is your name\",\n",
        "      \"What planets have you visited \",\n",
        "      \"What technology do you have on this planet\",\n",
        "      \"What is your favorite food\",\n",
        "      \"What is your favorite sport\",\n",
        "  )\n",
        "\n",
        "  def __init__(self):\n",
        "    self.alienbabble = {'describe_planet_intent': r'.*\\s\\*yourplanet.*',\n",
        "                        'answer_why_intent': r'.*\\s\\*why\\sare.*',\n",
        "                        'about_intellipat': r'.*\\s\\*intellipat'\n",
        "                        }\n",
        "\n",
        "  def greet(self):\n",
        "    self.name = input(\"What is your name?\\n\")\n",
        "    will_help = input(f\"Hi {self.name}, I am a Rule-Bot. Will you help me learn about the planet?\\n\")\n",
        "\n",
        "    if will_help in self.negative_responses:\n",
        "        print(\"Ok, have a nice earth day!\")\n",
        "        return\n",
        "    self.chat()\n",
        "\n",
        "  def make_exit(self,reply):\n",
        "    for command in self.exit_command:\n",
        "      if reply== command:\n",
        "        print(\"Ok, have a nice earth day!\")\n",
        "        return True\n",
        "\n",
        "    def chat(self):\n",
        "      reply= input(random.choice(self.random_question)).lower()\n",
        "    while not self.make_exit(reply):\n",
        "      reply= input(self.match_reply(reply))\n",
        "\n",
        "\n",
        "    def match_reply(self,reply):\n",
        "      for key, value in self.alienbabble.item():\n",
        "        intent=key\n",
        "      regex_pattern= value\n",
        "      found_match= re.match(regex_pattern,reply)\n",
        "      if found_match and intent == \"describe_planet_intent\":\n",
        "        return self.describe_planet_intent()\n",
        "      elif found_match and intent == \"answer_why_intent\":\n",
        "        return self.answer_why_intent()\n",
        "      elif found_match and intent == \"about_intellipat\":\n",
        "        return self.about_intellipat()\n",
        "\n",
        "      if not found_match:\n",
        "        return self.no_match_intent()\n",
        "\n",
        "\n",
        "    def describe_planet_intent(self):\n",
        "      responses= (\"My planet is Cancer and I am from earth \")\n",
        "      return random.choice(responses)\n",
        "\n",
        "    def answer_why_intent(self):\n",
        "      responses = (\"I am in peace , I am a planet\")\n",
        "      return random.choice(responses)\n",
        "\n",
        "    def about_intellipat(self):\n",
        "      responses = (\"Intellipat is okaish \")\n",
        "      return random.choice(responses)\n",
        "\n",
        "    def no_match_intent(self):\n",
        "      responses = (\"I am not sure what you are talking about\")\n",
        "      return random.choice(responses)\n",
        "\n",
        "\n",
        "    AlienBot= RuleBot()\n",
        "    AlienBot.greet()\n",
        "\n",
        "if __name__ == \"__main__\":\n",
        "  AlienBot= RuleBot()\n",
        "  AlienBot.greet()"
      ],
      "metadata": {
        "colab": {
          "base_uri": "https://localhost:8080/"
        },
        "id": "bYUNh3fSm2uT",
        "outputId": "41d25d32-2a22-4054-f076-1d4c5be88cfd"
      },
      "execution_count": 17,
      "outputs": [
        {
          "output_type": "stream",
          "name": "stdout",
          "text": [
            "What is your name?\n",
            "Rudra\n",
            "Hi Rudra, I am a Rule-Bot. Will you help me learn about the planet?\n",
            "no\n",
            "Ok, have a nice earth day!\n"
          ]
        }
      ]
    },
    {
      "cell_type": "code",
      "source": [],
      "metadata": {
        "id": "1UEKO9Js19LZ"
      },
      "execution_count": null,
      "outputs": []
    }
  ]
}